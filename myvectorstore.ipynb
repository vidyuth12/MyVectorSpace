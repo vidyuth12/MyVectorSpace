{
 "cells": [
  {
   "cell_type": "code",
   "execution_count": 52,
   "metadata": {},
   "outputs": [],
   "source": [
    "from typing import *\n",
    "import numpy as np\n",
    "from sentence_transformers import SentenceTransformer, models\n",
    "import math"
   ]
  },
  {
   "cell_type": "code",
   "execution_count": 53,
   "metadata": {},
   "outputs": [],
   "source": [
    "# Document which will be stored in the vector space\n",
    "document = \"\"\"The concept of an expanding universe revolutionized our understanding of cosmology and the nature of the cosmos. This groundbreaking idea was first proposed by Georges Lemaître in the 1920s and later substantiated by Edwin Hubble's observations. Hubble discovered that galaxies are moving away from us at velocities proportional to their distances, a phenomenon now known as Hubble's Law. This observation provided compelling evidence for the Big Bang theory, suggesting that the universe had a beginning and has been expanding ever since. The expansion is not into empty space but rather involves the stretching of space itself, causing galaxies to move apart over time.\n",
    "\n",
    "At the core of this discovery is the redshift of light from distant galaxies. As galaxies recede, the light they emit shifts toward the red end of the spectrum, an effect analogous to the Doppler shift in sound. This redshift is a direct indication of the galaxies' velocities relative to us. The farther away a galaxy is, the faster it appears to be moving away. This relationship, quantified in Hubble's Law, has profound implications for understanding the size, age, and ultimate fate of the universe. The current rate of expansion, known as the Hubble constant, allows astronomers to estimate the age of the universe at approximately 13.8 billion years.\n",
    "\n",
    "The expansion of the universe also has significant implications for the future. One key question is whether the expansion will continue indefinitely or eventually reverse. The fate of the universe depends on its total mass and the mysterious dark energy that constitutes about 68 percentage of the cosmos. Dark energy, a form of energy that permeates all of space, is believed to be responsible for the accelerated expansion of the universe observed in recent decades. If dark energy continues to drive the expansion, the universe could expand forever, leading to a cold, dark, and dilute state known as the \"heat death.\" Conversely, if gravity were to overcome dark energy, the universe might eventually collapse in a \"Big Crunch.\"\n",
    "\n",
    "The discovery of the expanding universe has opened up new avenues of research and raised fundamental questions about the nature of space, time, and matter. It challenges our understanding of physics and compels scientists to develop new theories to explain the observed phenomena. As we continue to probe deeper into the cosmos with advanced telescopes and technologies, we gain more insights into the mechanisms driving the expansion and the ultimate fate of the universe. The expanding universe remains a central theme in cosmology, shaping our quest to unravel the mysteries of the cosmos and our place within it.\"\"\""
   ]
  },
  {
   "cell_type": "code",
   "execution_count": 54,
   "metadata": {},
   "outputs": [],
   "source": [
    "# Model which we will be using for embedding the input document\n",
    "model = SentenceTransformer('sentence-transformers/all-MiniLM-L12-v2')"
   ]
  },
  {
   "cell_type": "code",
   "execution_count": 55,
   "metadata": {},
   "outputs": [],
   "source": [
    "# document splitting and embedding\n",
    "\n",
    "docs = document.split('\\n')\n",
    "embedding = model.encode(docs)"
   ]
  },
  {
   "cell_type": "code",
   "execution_count": 56,
   "metadata": {},
   "outputs": [
    {
     "name": "stdout",
     "output_type": "stream",
     "text": [
      "<class 'numpy.ndarray'>\n"
     ]
    }
   ],
   "source": [
    "print(type(embedding))"
   ]
  },
  {
   "cell_type": "code",
   "execution_count": 57,
   "metadata": {},
   "outputs": [],
   "source": [
    "def cosine(embed):\n",
    "    a = np.linalg.norm(embedding, axis=1)\n",
    "    b = np.linalg.norm(embed)\n",
    "    return np.dot(embedding, embed) / a * b\n",
    "\n",
    "def euclidean(embed):\n",
    "    distance: np.ndarray = np.sqrt((embedding - embed) ** 2).sum(axis=1)\n",
    "    print(\"Euclidean distance function output: \", distance)\n",
    "    return distance\n",
    "\n",
    "def get_topk_similar_results(query_embedding, k, similarity_metric):\n",
    "    assert query_embedding.ndim == 1\n",
    "    if similarity_metric == \"cosine\":\n",
    "        array = cosine(query_embedding)\n",
    "        sorted_array = np.argsort(array)\n",
    "        topk = sorted_array[::-1][:k]\n",
    "    elif similarity_metric == \"euclidean\":\n",
    "        array = euclidean(query_embedding)\n",
    "        sorted_array = np.argsort(array)\n",
    "        print(sorted_array)\n",
    "        topk = sorted_array[:k]\n",
    "\n",
    "    print(topk)\n",
    "    topk_docs = []\n",
    "    for i in topk:\n",
    "        topk_docs.append(docs[i])\n",
    "    topk_distances = array[topk]\n",
    "    print(topk_docs)\n",
    "\n",
    "    return topk_docs, topk_distances\n"
   ]
  },
  {
   "cell_type": "code",
   "execution_count": 60,
   "metadata": {},
   "outputs": [
    {
     "name": "stdout",
     "output_type": "stream",
     "text": [
      "[4 6]\n",
      "['The expansion of the universe also has significant implications for the future. One key question is whether the expansion will continue indefinitely or eventually reverse. The fate of the universe depends on its total mass and the mysterious dark energy that constitutes about 68 percentage of the cosmos. Dark energy, a form of energy that permeates all of space, is believed to be responsible for the accelerated expansion of the universe observed in recent decades. If dark energy continues to drive the expansion, the universe could expand forever, leading to a cold, dark, and dilute state known as the \"heat death.\" Conversely, if gravity were to overcome dark energy, the universe might eventually collapse in a \"Big Crunch.\"', 'The discovery of the expanding universe has opened up new avenues of research and raised fundamental questions about the nature of space, time, and matter. It challenges our understanding of physics and compels scientists to develop new theories to explain the observed phenomena. As we continue to probe deeper into the cosmos with advanced telescopes and technologies, we gain more insights into the mechanisms driving the expansion and the ultimate fate of the universe. The expanding universe remains a central theme in cosmology, shaping our quest to unravel the mysteries of the cosmos and our place within it.']\n"
     ]
    }
   ],
   "source": [
    "# Searching similar\n",
    "query = \"WHat does the author say about the implications for the future?\"\n",
    "query_embedding = model.encode(query)\n",
    "res, b = get_topk_similar_results(query_embedding, 2, \"cosine\")"
   ]
  },
  {
   "cell_type": "code",
   "execution_count": 61,
   "metadata": {},
   "outputs": [
    {
     "name": "stdout",
     "output_type": "stream",
     "text": [
      "['The expansion of the universe also has significant implications for the future. One key question is whether the expansion will continue indefinitely or eventually reverse. The fate of the universe depends on its total mass and the mysterious dark energy that constitutes about 68 percentage of the cosmos. Dark energy, a form of energy that permeates all of space, is believed to be responsible for the accelerated expansion of the universe observed in recent decades. If dark energy continues to drive the expansion, the universe could expand forever, leading to a cold, dark, and dilute state known as the \"heat death.\" Conversely, if gravity were to overcome dark energy, the universe might eventually collapse in a \"Big Crunch.\"', 'The discovery of the expanding universe has opened up new avenues of research and raised fundamental questions about the nature of space, time, and matter. It challenges our understanding of physics and compels scientists to develop new theories to explain the observed phenomena. As we continue to probe deeper into the cosmos with advanced telescopes and technologies, we gain more insights into the mechanisms driving the expansion and the ultimate fate of the universe. The expanding universe remains a central theme in cosmology, shaping our quest to unravel the mysteries of the cosmos and our place within it.']\n"
     ]
    }
   ],
   "source": [
    "print(res)"
   ]
  },
  {
   "cell_type": "code",
   "execution_count": 62,
   "metadata": {},
   "outputs": [
    {
     "name": "stdout",
     "output_type": "stream",
     "text": [
      "Euclidean distance function output:  [19.423164 18.868782 19.084885 18.868782 16.779388 18.868782 18.689133]\n",
      "[4 6 1 3 5 2 0]\n",
      "[4 6]\n",
      "['The expansion of the universe also has significant implications for the future. One key question is whether the expansion will continue indefinitely or eventually reverse. The fate of the universe depends on its total mass and the mysterious dark energy that constitutes about 68 percentage of the cosmos. Dark energy, a form of energy that permeates all of space, is believed to be responsible for the accelerated expansion of the universe observed in recent decades. If dark energy continues to drive the expansion, the universe could expand forever, leading to a cold, dark, and dilute state known as the \"heat death.\" Conversely, if gravity were to overcome dark energy, the universe might eventually collapse in a \"Big Crunch.\"', 'The discovery of the expanding universe has opened up new avenues of research and raised fundamental questions about the nature of space, time, and matter. It challenges our understanding of physics and compels scientists to develop new theories to explain the observed phenomena. As we continue to probe deeper into the cosmos with advanced telescopes and technologies, we gain more insights into the mechanisms driving the expansion and the ultimate fate of the universe. The expanding universe remains a central theme in cosmology, shaping our quest to unravel the mysteries of the cosmos and our place within it.']\n"
     ]
    }
   ],
   "source": [
    "res_2, b_2 = get_topk_similar_results(query_embedding, 2, \"euclidean\")"
   ]
  },
  {
   "cell_type": "code",
   "execution_count": null,
   "metadata": {},
   "outputs": [],
   "source": []
  }
 ],
 "metadata": {
  "kernelspec": {
   "display_name": "Python 3",
   "language": "python",
   "name": "python3"
  },
  "language_info": {
   "codemirror_mode": {
    "name": "ipython",
    "version": 3
   },
   "file_extension": ".py",
   "mimetype": "text/x-python",
   "name": "python",
   "nbconvert_exporter": "python",
   "pygments_lexer": "ipython3",
   "version": "3.12.0"
  }
 },
 "nbformat": 4,
 "nbformat_minor": 2
}
